{
  "nbformat": 4,
  "nbformat_minor": 0,
  "metadata": {
    "colab": {
      "name": "countriesbyneighbours.ipynb",
      "provenance": [],
      "collapsed_sections": [],
      "authorship_tag": "ABX9TyNfWdLZddQSBhVnOWax/4aL",
      "include_colab_link": true
    },
    "kernelspec": {
      "name": "python3",
      "display_name": "Python 3"
    },
    "language_info": {
      "name": "python"
    }
  },
  "cells": [
    {
      "cell_type": "markdown",
      "metadata": {
        "id": "view-in-github",
        "colab_type": "text"
      },
      "source": [
        "<a href=\"https://colab.research.google.com/github/s0er3n/Neighbouring-Countries-Fused-Together/blob/main/script.ipynb\" target=\"_parent\"><img src=\"https://colab.research.google.com/assets/colab-badge.svg\" alt=\"Open In Colab\"/></a>"
      ]
    },
    {
      "cell_type": "code",
      "metadata": {
        "colab": {
          "base_uri": "https://localhost:8080/"
        },
        "id": "HPdB_XfLpX3o",
        "outputId": "e4693346-175c-4ac9-dae7-f915e0fe9d92"
      },
      "source": [
        "!pip install geopandas\n"
      ],
      "execution_count": null,
      "outputs": [
        {
          "output_type": "stream",
          "name": "stdout",
          "text": [
            "Requirement already satisfied: geopandas in /usr/local/lib/python3.7/dist-packages (0.10.1)\n",
            "Requirement already satisfied: fiona>=1.8 in /usr/local/lib/python3.7/dist-packages (from geopandas) (1.8.20)\n",
            "Requirement already satisfied: pandas>=0.25.0 in /usr/local/lib/python3.7/dist-packages (from geopandas) (1.1.5)\n",
            "Requirement already satisfied: shapely>=1.6 in /usr/local/lib/python3.7/dist-packages (from geopandas) (1.7.1)\n",
            "Requirement already satisfied: pyproj>=2.2.0 in /usr/local/lib/python3.7/dist-packages (from geopandas) (3.2.1)\n",
            "Requirement already satisfied: cligj>=0.5 in /usr/local/lib/python3.7/dist-packages (from fiona>=1.8->geopandas) (0.7.2)\n",
            "Requirement already satisfied: certifi in /usr/local/lib/python3.7/dist-packages (from fiona>=1.8->geopandas) (2021.5.30)\n",
            "Requirement already satisfied: setuptools in /usr/local/lib/python3.7/dist-packages (from fiona>=1.8->geopandas) (57.4.0)\n",
            "Requirement already satisfied: click-plugins>=1.0 in /usr/local/lib/python3.7/dist-packages (from fiona>=1.8->geopandas) (1.1.1)\n",
            "Requirement already satisfied: attrs>=17 in /usr/local/lib/python3.7/dist-packages (from fiona>=1.8->geopandas) (21.2.0)\n",
            "Requirement already satisfied: click>=4.0 in /usr/local/lib/python3.7/dist-packages (from fiona>=1.8->geopandas) (7.1.2)\n",
            "Requirement already satisfied: munch in /usr/local/lib/python3.7/dist-packages (from fiona>=1.8->geopandas) (2.5.0)\n",
            "Requirement already satisfied: six>=1.7 in /usr/local/lib/python3.7/dist-packages (from fiona>=1.8->geopandas) (1.15.0)\n",
            "Requirement already satisfied: pytz>=2017.2 in /usr/local/lib/python3.7/dist-packages (from pandas>=0.25.0->geopandas) (2018.9)\n",
            "Requirement already satisfied: numpy>=1.15.4 in /usr/local/lib/python3.7/dist-packages (from pandas>=0.25.0->geopandas) (1.19.5)\n",
            "Requirement already satisfied: python-dateutil>=2.7.3 in /usr/local/lib/python3.7/dist-packages (from pandas>=0.25.0->geopandas) (2.8.2)\n"
          ]
        }
      ]
    },
    {
      "cell_type": "code",
      "metadata": {
        "id": "uoNxvZj5pncy"
      },
      "source": [
        "import matplotlib.pyplot as plt\n",
        "import geopandas as gpd\n",
        "\n",
        "world = gpd.read_file(gpd.datasets.get_path('naturalearth_lowres'))\n",
        "\n",
        "\n",
        "\n",
        "\n"
      ],
      "execution_count": null,
      "outputs": []
    },
    {
      "cell_type": "code",
      "metadata": {
        "id": "24QgsFgItLYD"
      },
      "source": [
        "# add NEIGHBORS column\n",
        "world[\"NEIGHBORS\"] = None  \n",
        "for index, country in world.iterrows():   \n",
        "    # get 'not disjoint' countries\n",
        "    neighbors = world[~world.geometry.disjoint(country.geometry)].name.tolist()\n",
        "\n",
        "    # remove own name of the country from the list\n",
        "    neighbors = [ name for name in neighbors if country.name != name ]\n",
        "\n",
        "    # add names of neighbors as NEIGHBORS value\n",
        "    world.at[index, \"NEIGHBORS\"] =neighbors\n",
        "\n",
        "  \n"
      ],
      "execution_count": null,
      "outputs": []
    },
    {
      "cell_type": "code",
      "metadata": {
        "id": "OC1ihbg-uiHE"
      },
      "source": [
        "csv_data = []\n",
        "for index, country in world.iterrows():\n",
        "  if len(world.at[index, \"NEIGHBORS\"]) != 0:\n",
        "    csv_data += [[f'https://github.com/s0er3n/Neighbouring-Countries-Fused-Together/blob/main/{world.name[country.name]}.jpg?raw=true', world.name[country.name]]]\n",
        "#    ax = world[world.name == country.name].plot(edgecolor=u'black', color='black')\n",
        "#    # ax.set_title(world.name[country.name])\n",
        "#    for neighbor in world.at[index, \"NEIGHBORS\"]:\n",
        "#      world[world.name == neighbor].plot(edgecolor=u'black', color='black',ax=ax)\n",
        "      \n",
        "#      plt.axis('off')\n",
        "#      plt.savefig(f'{world.name[country.name]}.jpg')\n",
        "import csv\n",
        "with open(\"data.csv\",\"w\") as csvfile:\n",
        "  writer = csv.writer(csvfile)\n",
        "  writer.writerows(csv_data)"
      ],
      "execution_count": null,
      "outputs": []
    }
  ]
}